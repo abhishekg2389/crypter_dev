{
 "cells": [
  {
   "cell_type": "code",
   "execution_count": 1,
   "metadata": {
    "ExecuteTime": {
     "end_time": "2019-02-03T12:24:48.531151Z",
     "start_time": "2019-02-03T12:24:48.483732Z"
    },
    "collapsed": true
   },
   "outputs": [],
   "source": [
    "from IPython.core.interactiveshell import InteractiveShell\n",
    "InteractiveShell.ast_node_interactivity = \"all\""
   ]
  },
  {
   "cell_type": "code",
   "execution_count": 2,
   "metadata": {
    "ExecuteTime": {
     "end_time": "2019-02-03T12:24:55.507663Z",
     "start_time": "2019-02-03T12:24:49.143958Z"
    }
   },
   "outputs": [
    {
     "name": "stderr",
     "output_type": "stream",
     "text": [
      "Using TensorFlow backend.\n"
     ]
    }
   ],
   "source": [
    "from keras.layers import Input, Dense, LSTM, RepeatVector, TimeDistributed\n",
    "from keras.callbacks import EarlyStopping, ReduceLROnPlateau, TensorBoard\n",
    "\n",
    "from keras.models import Model\n",
    "from keras import regularizers\n",
    "\n",
    "from keras.backend import eval\n",
    "\n",
    "import pandas as pd\n",
    "import numpy as np"
   ]
  },
  {
   "cell_type": "code",
   "execution_count": 21,
   "metadata": {
    "ExecuteTime": {
     "end_time": "2019-02-03T16:17:55.398326Z",
     "start_time": "2019-02-03T16:17:54.090752Z"
    }
   },
   "outputs": [
    {
     "data": {
      "text/html": [
       "<div>\n",
       "<style scoped>\n",
       "    .dataframe tbody tr th:only-of-type {\n",
       "        vertical-align: middle;\n",
       "    }\n",
       "\n",
       "    .dataframe tbody tr th {\n",
       "        vertical-align: top;\n",
       "    }\n",
       "\n",
       "    .dataframe thead th {\n",
       "        text-align: right;\n",
       "    }\n",
       "</style>\n",
       "<table border=\"1\" class=\"dataframe\">\n",
       "  <thead>\n",
       "    <tr style=\"text-align: right;\">\n",
       "      <th></th>\n",
       "      <th>OPEN_TIME</th>\n",
       "      <th>OPEN</th>\n",
       "      <th>HIGH</th>\n",
       "      <th>LOW</th>\n",
       "      <th>CLOSE</th>\n",
       "      <th>VOLUME</th>\n",
       "      <th>CLOSE_TIME</th>\n",
       "      <th>QUOTE_VOL</th>\n",
       "      <th>NUM_TRADES</th>\n",
       "      <th>TAKE_BASE_VOL</th>\n",
       "      <th>TAKE_QUOTE_VOL</th>\n",
       "      <th>EXTRA</th>\n",
       "    </tr>\n",
       "  </thead>\n",
       "  <tbody>\n",
       "    <tr>\n",
       "      <th>0</th>\n",
       "      <td>1517303100000</td>\n",
       "      <td>10629400</td>\n",
       "      <td>10673700</td>\n",
       "      <td>10629300</td>\n",
       "      <td>10640100</td>\n",
       "      <td>17785000000</td>\n",
       "      <td>1517303159999</td>\n",
       "      <td>1892484646</td>\n",
       "      <td>412</td>\n",
       "      <td>10429400000</td>\n",
       "      <td>1110434538</td>\n",
       "      <td>0</td>\n",
       "    </tr>\n",
       "    <tr>\n",
       "      <th>1</th>\n",
       "      <td>1517303160000</td>\n",
       "      <td>10640100</td>\n",
       "      <td>10643300</td>\n",
       "      <td>10619800</td>\n",
       "      <td>10630100</td>\n",
       "      <td>15433400000</td>\n",
       "      <td>1517303219999</td>\n",
       "      <td>1640768918</td>\n",
       "      <td>276</td>\n",
       "      <td>4288000000</td>\n",
       "      <td>456085864</td>\n",
       "      <td>0</td>\n",
       "    </tr>\n",
       "    <tr>\n",
       "      <th>2</th>\n",
       "      <td>1517303220000</td>\n",
       "      <td>10621100</td>\n",
       "      <td>10640000</td>\n",
       "      <td>10621000</td>\n",
       "      <td>10625000</td>\n",
       "      <td>9354600000</td>\n",
       "      <td>1517303279999</td>\n",
       "      <td>994314138</td>\n",
       "      <td>255</td>\n",
       "      <td>4298600000</td>\n",
       "      <td>457129449</td>\n",
       "      <td>0</td>\n",
       "    </tr>\n",
       "    <tr>\n",
       "      <th>3</th>\n",
       "      <td>1517303280000</td>\n",
       "      <td>10626200</td>\n",
       "      <td>10634500</td>\n",
       "      <td>10622600</td>\n",
       "      <td>10630800</td>\n",
       "      <td>6746400000</td>\n",
       "      <td>1517303339999</td>\n",
       "      <td>716919384</td>\n",
       "      <td>184</td>\n",
       "      <td>3005400000</td>\n",
       "      <td>319476265</td>\n",
       "      <td>0</td>\n",
       "    </tr>\n",
       "    <tr>\n",
       "      <th>4</th>\n",
       "      <td>1517303340000</td>\n",
       "      <td>10630800</td>\n",
       "      <td>10639000</td>\n",
       "      <td>10622600</td>\n",
       "      <td>10632600</td>\n",
       "      <td>7650900000</td>\n",
       "      <td>1517303399999</td>\n",
       "      <td>813139316</td>\n",
       "      <td>182</td>\n",
       "      <td>3471000000</td>\n",
       "      <td>369112330</td>\n",
       "      <td>0</td>\n",
       "    </tr>\n",
       "    <tr>\n",
       "      <th>5</th>\n",
       "      <td>1517303400000</td>\n",
       "      <td>10632600</td>\n",
       "      <td>10632600</td>\n",
       "      <td>10620000</td>\n",
       "      <td>10622400</td>\n",
       "      <td>6602300000</td>\n",
       "      <td>1517303459999</td>\n",
       "      <td>701424997</td>\n",
       "      <td>191</td>\n",
       "      <td>2897600000</td>\n",
       "      <td>307888440</td>\n",
       "      <td>0</td>\n",
       "    </tr>\n",
       "    <tr>\n",
       "      <th>6</th>\n",
       "      <td>1517303460000</td>\n",
       "      <td>10624100</td>\n",
       "      <td>10655300</td>\n",
       "      <td>10621900</td>\n",
       "      <td>10633100</td>\n",
       "      <td>18857000000</td>\n",
       "      <td>1517303519999</td>\n",
       "      <td>2005967577</td>\n",
       "      <td>415</td>\n",
       "      <td>8383700000</td>\n",
       "      <td>892185162</td>\n",
       "      <td>0</td>\n",
       "    </tr>\n",
       "    <tr>\n",
       "      <th>7</th>\n",
       "      <td>1517303520000</td>\n",
       "      <td>10633100</td>\n",
       "      <td>10648400</td>\n",
       "      <td>10628900</td>\n",
       "      <td>10632200</td>\n",
       "      <td>10156400000</td>\n",
       "      <td>1517303579999</td>\n",
       "      <td>1080391056</td>\n",
       "      <td>270</td>\n",
       "      <td>6018500000</td>\n",
       "      <td>640444989</td>\n",
       "      <td>0</td>\n",
       "    </tr>\n",
       "    <tr>\n",
       "      <th>8</th>\n",
       "      <td>1517303580000</td>\n",
       "      <td>10632600</td>\n",
       "      <td>10649200</td>\n",
       "      <td>10632200</td>\n",
       "      <td>10644200</td>\n",
       "      <td>15437200000</td>\n",
       "      <td>1517303639999</td>\n",
       "      <td>1642054242</td>\n",
       "      <td>282</td>\n",
       "      <td>4604000000</td>\n",
       "      <td>490073186</td>\n",
       "      <td>0</td>\n",
       "    </tr>\n",
       "    <tr>\n",
       "      <th>9</th>\n",
       "      <td>1517303640000</td>\n",
       "      <td>10644000</td>\n",
       "      <td>10690000</td>\n",
       "      <td>10633500</td>\n",
       "      <td>10644300</td>\n",
       "      <td>19295500000</td>\n",
       "      <td>1517303699999</td>\n",
       "      <td>2054704543</td>\n",
       "      <td>352</td>\n",
       "      <td>11366500000</td>\n",
       "      <td>1211303174</td>\n",
       "      <td>0</td>\n",
       "    </tr>\n",
       "  </tbody>\n",
       "</table>\n",
       "</div>"
      ],
      "text/plain": [
       "       OPEN_TIME      OPEN      HIGH       LOW     CLOSE       VOLUME  \\\n",
       "0  1517303100000  10629400  10673700  10629300  10640100  17785000000   \n",
       "1  1517303160000  10640100  10643300  10619800  10630100  15433400000   \n",
       "2  1517303220000  10621100  10640000  10621000  10625000   9354600000   \n",
       "3  1517303280000  10626200  10634500  10622600  10630800   6746400000   \n",
       "4  1517303340000  10630800  10639000  10622600  10632600   7650900000   \n",
       "5  1517303400000  10632600  10632600  10620000  10622400   6602300000   \n",
       "6  1517303460000  10624100  10655300  10621900  10633100  18857000000   \n",
       "7  1517303520000  10633100  10648400  10628900  10632200  10156400000   \n",
       "8  1517303580000  10632600  10649200  10632200  10644200  15437200000   \n",
       "9  1517303640000  10644000  10690000  10633500  10644300  19295500000   \n",
       "\n",
       "      CLOSE_TIME   QUOTE_VOL  NUM_TRADES  TAKE_BASE_VOL  TAKE_QUOTE_VOL  EXTRA  \n",
       "0  1517303159999  1892484646         412    10429400000      1110434538      0  \n",
       "1  1517303219999  1640768918         276     4288000000       456085864      0  \n",
       "2  1517303279999   994314138         255     4298600000       457129449      0  \n",
       "3  1517303339999   716919384         184     3005400000       319476265      0  \n",
       "4  1517303399999   813139316         182     3471000000       369112330      0  \n",
       "5  1517303459999   701424997         191     2897600000       307888440      0  \n",
       "6  1517303519999  2005967577         415     8383700000       892185162      0  \n",
       "7  1517303579999  1080391056         270     6018500000       640444989      0  \n",
       "8  1517303639999  1642054242         282     4604000000       490073186      0  \n",
       "9  1517303699999  2054704543         352    11366500000      1211303174      0  "
      ]
     },
     "execution_count": 21,
     "metadata": {},
     "output_type": "execute_result"
    }
   ],
   "source": [
    "df = pd.read_csv('data/ETHBTC_1517303160000_1547498100000.csv')\n",
    "df.head(10)"
   ]
  },
  {
   "cell_type": "code",
   "execution_count": 22,
   "metadata": {
    "ExecuteTime": {
     "end_time": "2019-02-03T16:18:01.072839Z",
     "start_time": "2019-02-03T16:18:01.000311Z"
    }
   },
   "outputs": [
    {
     "data": {
      "text/plain": [
       "(500000, 5)"
      ]
     },
     "execution_count": 22,
     "metadata": {},
     "output_type": "execute_result"
    },
    {
     "data": {
      "text/plain": [
       "array([[0.85942755, 0.86217982, 0.86067206, 0.86029269, 0.00995129],\n",
       "       [0.86029269, 0.85972423, 0.85990283, 0.85948415, 0.00863549],\n",
       "       [0.85875647, 0.85945767, 0.86      , 0.8590718 , 0.0052342 ],\n",
       "       [0.85916882, 0.8590134 , 0.86012955, 0.85954075, 0.00377483],\n",
       "       [0.85954075, 0.85937689, 0.86012955, 0.85968629, 0.00428093]])"
      ]
     },
     "execution_count": 22,
     "metadata": {},
     "output_type": "execute_result"
    }
   ],
   "source": [
    "data = df.loc[:, ['OPEN', 'HIGH', 'LOW', 'CLOSE', 'VOLUME']].values\n",
    "data.shape\n",
    "data = data/data.max(axis=0).astype(float)\n",
    "data[:5]"
   ]
  },
  {
   "cell_type": "code",
   "execution_count": 23,
   "metadata": {
    "ExecuteTime": {
     "end_time": "2019-02-03T16:18:09.467974Z",
     "start_time": "2019-02-03T16:18:08.861694Z"
    }
   },
   "outputs": [
    {
     "name": "stdout",
     "output_type": "stream",
     "text": [
      "_________________________________________________________________\n",
      "Layer (type)                 Output Shape              Param #   \n",
      "=================================================================\n",
      "input_4 (InputLayer)         (None, 100, 5)            0         \n",
      "_________________________________________________________________\n",
      "lstm_7 (LSTM)                (None, 150)               93600     \n",
      "_________________________________________________________________\n",
      "repeat_vector_4 (RepeatVecto (None, 100, 150)          0         \n",
      "_________________________________________________________________\n",
      "lstm_8 (LSTM)                (None, 100, 150)          180600    \n",
      "_________________________________________________________________\n",
      "time_distributed_4 (TimeDist (None, 100, 5)            755       \n",
      "=================================================================\n",
      "Total params: 274,955\n",
      "Trainable params: 274,955\n",
      "Non-trainable params: 0\n",
      "_________________________________________________________________\n"
     ]
    }
   ],
   "source": [
    "inputs = Input(shape=(100, 5))\n",
    "encoded = LSTM(150)(inputs)\n",
    "\n",
    "decoded = RepeatVector(100)(encoded)\n",
    "decoded = LSTM(150, return_sequences=True)(decoded)\n",
    "decoded = TimeDistributed(Dense(5))(decoded)\n",
    "\n",
    "sequence_autoencoder = Model(inputs, decoded)\n",
    "encoder = Model(inputs, encoded)\n",
    "\n",
    "sequence_autoencoder.compile(optimizer='adam', loss='mse', metrics=['mae'])\n",
    "sequence_autoencoder.summary()"
   ]
  },
  {
   "cell_type": "code",
   "execution_count": 24,
   "metadata": {
    "ExecuteTime": {
     "end_time": "2019-02-03T16:18:14.438024Z",
     "start_time": "2019-02-03T16:18:14.431802Z"
    }
   },
   "outputs": [
    {
     "data": {
      "text/plain": [
       "(5000, 100, 5)"
      ]
     },
     "execution_count": 24,
     "metadata": {},
     "output_type": "execute_result"
    }
   ],
   "source": [
    "X = data.reshape(-1, 100, 5)\n",
    "X.shape"
   ]
  },
  {
   "cell_type": "code",
   "execution_count": 25,
   "metadata": {
    "ExecuteTime": {
     "end_time": "2019-02-03T16:18:16.443108Z",
     "start_time": "2019-02-03T16:18:15.652128Z"
    }
   },
   "outputs": [
    {
     "data": {
      "text/plain": [
       "0.001"
      ]
     },
     "execution_count": 25,
     "metadata": {},
     "output_type": "execute_result"
    }
   ],
   "source": [
    "eval(sequence_autoencoder.optimizer.lr)"
   ]
  },
  {
   "cell_type": "code",
   "execution_count": 26,
   "metadata": {
    "ExecuteTime": {
     "end_time": "2019-02-03T16:55:36.121399Z",
     "start_time": "2019-02-03T16:18:19.272974Z"
    },
    "scrolled": false
   },
   "outputs": [
    {
     "name": "stdout",
     "output_type": "stream",
     "text": [
      "Train on 4000 samples, validate on 1000 samples\n",
      "Epoch 1/100\n",
      "4000/4000 [==============================] - 22s 6ms/step - loss: 0.0355 - mean_absolute_error: 0.1238 - val_loss: 0.0042 - val_mean_absolute_error: 0.0576\n",
      "Epoch 2/100\n",
      "4000/4000 [==============================] - 31s 8ms/step - loss: 0.0047 - mean_absolute_error: 0.0458 - val_loss: 0.0025 - val_mean_absolute_error: 0.0446\n",
      "Epoch 3/100\n",
      "4000/4000 [==============================] - 24s 6ms/step - loss: 0.0027 - mean_absolute_error: 0.0284 - val_loss: 0.0013 - val_mean_absolute_error: 0.0313\n",
      "Epoch 4/100\n",
      "4000/4000 [==============================] - 24s 6ms/step - loss: 0.0018 - mean_absolute_error: 0.0192 - val_loss: 6.4673e-04 - val_mean_absolute_error: 0.0195\n",
      "Epoch 5/100\n",
      "4000/4000 [==============================] - 25s 6ms/step - loss: 0.0014 - mean_absolute_error: 0.0125 - val_loss: 2.9549e-04 - val_mean_absolute_error: 0.0064\n",
      "Epoch 6/100\n",
      "4000/4000 [==============================] - 23s 6ms/step - loss: 0.0011 - mean_absolute_error: 0.0094 - val_loss: 2.6438e-04 - val_mean_absolute_error: 0.0070\n",
      "Epoch 7/100\n",
      "4000/4000 [==============================] - 23s 6ms/step - loss: 8.5930e-04 - mean_absolute_error: 0.0096 - val_loss: 2.4328e-04 - val_mean_absolute_error: 0.0077\n",
      "Epoch 8/100\n",
      "4000/4000 [==============================] - 23s 6ms/step - loss: 6.8697e-04 - mean_absolute_error: 0.0089 - val_loss: 2.0384e-04 - val_mean_absolute_error: 0.0060\n",
      "Epoch 9/100\n",
      "4000/4000 [==============================] - 27s 7ms/step - loss: 5.2553e-04 - mean_absolute_error: 0.0080 - val_loss: 1.7585e-04 - val_mean_absolute_error: 0.0058\n",
      "Epoch 10/100\n",
      "4000/4000 [==============================] - 25s 6ms/step - loss: 3.7155e-04 - mean_absolute_error: 0.0071 - val_loss: 1.4848e-04 - val_mean_absolute_error: 0.0059\n",
      "Epoch 11/100\n",
      "4000/4000 [==============================] - 22s 5ms/step - loss: 3.1126e-04 - mean_absolute_error: 0.0089 - val_loss: 1.9044e-04 - val_mean_absolute_error: 0.0090\n",
      "Epoch 12/100\n",
      "4000/4000 [==============================] - 22s 6ms/step - loss: 3.0921e-04 - mean_absolute_error: 0.0110 - val_loss: 1.1964e-04 - val_mean_absolute_error: 0.0054\n",
      "Epoch 13/100\n",
      "4000/4000 [==============================] - 21s 5ms/step - loss: 1.6128e-04 - mean_absolute_error: 0.0067 - val_loss: 1.0839e-04 - val_mean_absolute_error: 0.0047\n",
      "Epoch 14/100\n",
      "4000/4000 [==============================] - 22s 6ms/step - loss: 1.1865e-04 - mean_absolute_error: 0.0055 - val_loss: 9.6553e-05 - val_mean_absolute_error: 0.0041\n",
      "Epoch 15/100\n",
      "4000/4000 [==============================] - 20s 5ms/step - loss: 1.1416e-04 - mean_absolute_error: 0.0062 - val_loss: 1.1254e-04 - val_mean_absolute_error: 0.0063\n",
      "Epoch 16/100\n",
      "4000/4000 [==============================] - 20s 5ms/step - loss: 1.1428e-04 - mean_absolute_error: 0.0067 - val_loss: 9.3747e-05 - val_mean_absolute_error: 0.0045\n",
      "Epoch 17/100\n",
      "4000/4000 [==============================] - 20s 5ms/step - loss: 8.2179e-05 - mean_absolute_error: 0.0052 - val_loss: 8.5523e-05 - val_mean_absolute_error: 0.0039\n",
      "Epoch 18/100\n",
      "4000/4000 [==============================] - 20s 5ms/step - loss: 6.0493e-05 - mean_absolute_error: 0.0038 - val_loss: 7.9488e-05 - val_mean_absolute_error: 0.0036\n",
      "Epoch 19/100\n",
      "4000/4000 [==============================] - 21s 5ms/step - loss: 7.7066e-05 - mean_absolute_error: 0.0055 - val_loss: 8.7184e-05 - val_mean_absolute_error: 0.0051\n",
      "\n",
      "Epoch 00019: ReduceLROnPlateau reducing learning rate to 0.000500000023749.\n",
      "Epoch 20/100\n",
      "4000/4000 [==============================] - 23s 6ms/step - loss: 5.8855e-05 - mean_absolute_error: 0.0044 - val_loss: 7.7131e-05 - val_mean_absolute_error: 0.0036\n",
      "Epoch 21/100\n",
      "4000/4000 [==============================] - 28s 7ms/step - loss: 4.7497e-05 - mean_absolute_error: 0.0035 - val_loss: 7.6190e-05 - val_mean_absolute_error: 0.0037\n",
      "Epoch 22/100\n",
      "4000/4000 [==============================] - 29s 7ms/step - loss: 4.4245e-05 - mean_absolute_error: 0.0032 - val_loss: 7.3162e-05 - val_mean_absolute_error: 0.0034\n",
      "Epoch 23/100\n",
      "4000/4000 [==============================] - 26s 6ms/step - loss: 4.2083e-05 - mean_absolute_error: 0.0032 - val_loss: 7.2613e-05 - val_mean_absolute_error: 0.0035\n",
      "Epoch 24/100\n",
      "4000/4000 [==============================] - 25s 6ms/step - loss: 4.0105e-05 - mean_absolute_error: 0.0031 - val_loss: 7.1047e-05 - val_mean_absolute_error: 0.0034\n",
      "Epoch 25/100\n",
      "4000/4000 [==============================] - 22s 6ms/step - loss: 3.8858e-05 - mean_absolute_error: 0.0031 - val_loss: 7.0366e-05 - val_mean_absolute_error: 0.0033\n",
      "Epoch 26/100\n",
      "4000/4000 [==============================] - 22s 5ms/step - loss: 3.7371e-05 - mean_absolute_error: 0.0031 - val_loss: 6.8960e-05 - val_mean_absolute_error: 0.0033\n",
      "Epoch 27/100\n",
      "4000/4000 [==============================] - 25s 6ms/step - loss: 3.6284e-05 - mean_absolute_error: 0.0031 - val_loss: 6.7835e-05 - val_mean_absolute_error: 0.0033\n",
      "Epoch 28/100\n",
      "4000/4000 [==============================] - 23s 6ms/step - loss: 3.4354e-05 - mean_absolute_error: 0.0029 - val_loss: 6.7565e-05 - val_mean_absolute_error: 0.0032\n",
      "Epoch 29/100\n",
      "4000/4000 [==============================] - 24s 6ms/step - loss: 3.3250e-05 - mean_absolute_error: 0.0029 - val_loss: 6.6467e-05 - val_mean_absolute_error: 0.0033\n",
      "Epoch 30/100\n",
      "4000/4000 [==============================] - 22s 5ms/step - loss: 3.4211e-05 - mean_absolute_error: 0.0032 - val_loss: 6.5913e-05 - val_mean_absolute_error: 0.0032\n",
      "Epoch 31/100\n",
      "4000/4000 [==============================] - 21s 5ms/step - loss: 3.2647e-05 - mean_absolute_error: 0.0031 - val_loss: 6.4462e-05 - val_mean_absolute_error: 0.0032\n",
      "Epoch 32/100\n",
      "4000/4000 [==============================] - 32s 8ms/step - loss: 3.1093e-05 - mean_absolute_error: 0.0029 - val_loss: 6.5286e-05 - val_mean_absolute_error: 0.0034\n",
      "\n",
      "Epoch 00032: ReduceLROnPlateau reducing learning rate to 0.000250000011874.\n",
      "Epoch 33/100\n",
      "4000/4000 [==============================] - 23s 6ms/step - loss: 3.0144e-05 - mean_absolute_error: 0.0029 - val_loss: 6.3809e-05 - val_mean_absolute_error: 0.0032\n",
      "Epoch 34/100\n",
      "4000/4000 [==============================] - 30s 8ms/step - loss: 2.9239e-05 - mean_absolute_error: 0.0027 - val_loss: 6.3528e-05 - val_mean_absolute_error: 0.0032\n",
      "Epoch 35/100\n",
      "4000/4000 [==============================] - 34s 9ms/step - loss: 2.8760e-05 - mean_absolute_error: 0.0027 - val_loss: 6.3375e-05 - val_mean_absolute_error: 0.0031\n",
      "Epoch 36/100\n",
      "4000/4000 [==============================] - 33s 8ms/step - loss: 2.8502e-05 - mean_absolute_error: 0.0027 - val_loss: 6.3347e-05 - val_mean_absolute_error: 0.0034\n",
      "Epoch 37/100\n",
      "4000/4000 [==============================] - 28s 7ms/step - loss: 2.8166e-05 - mean_absolute_error: 0.0027 - val_loss: 6.2392e-05 - val_mean_absolute_error: 0.0031\n",
      "Epoch 38/100\n",
      "4000/4000 [==============================] - 23s 6ms/step - loss: 2.7558e-05 - mean_absolute_error: 0.0026 - val_loss: 6.2219e-05 - val_mean_absolute_error: 0.0032\n",
      "Epoch 39/100\n",
      "4000/4000 [==============================] - 24s 6ms/step - loss: 2.7315e-05 - mean_absolute_error: 0.0026 - val_loss: 6.1526e-05 - val_mean_absolute_error: 0.0031\n",
      "Epoch 40/100\n",
      "4000/4000 [==============================] - 23s 6ms/step - loss: 2.7218e-05 - mean_absolute_error: 0.0027 - val_loss: 6.1436e-05 - val_mean_absolute_error: 0.0031\n",
      "Epoch 41/100\n",
      "4000/4000 [==============================] - 21s 5ms/step - loss: 2.6852e-05 - mean_absolute_error: 0.0026 - val_loss: 6.1092e-05 - val_mean_absolute_error: 0.0031\n",
      "Epoch 42/100\n",
      "4000/4000 [==============================] - 21s 5ms/step - loss: 2.6587e-05 - mean_absolute_error: 0.0026 - val_loss: 6.1149e-05 - val_mean_absolute_error: 0.0031\n",
      "\n",
      "Epoch 00042: ReduceLROnPlateau reducing learning rate to 0.000125000005937.\n",
      "Epoch 43/100\n",
      "4000/4000 [==============================] - 21s 5ms/step - loss: 2.6169e-05 - mean_absolute_error: 0.0026 - val_loss: 6.0769e-05 - val_mean_absolute_error: 0.0031\n",
      "Epoch 44/100\n",
      "4000/4000 [==============================] - 21s 5ms/step - loss: 2.6022e-05 - mean_absolute_error: 0.0026 - val_loss: 6.0414e-05 - val_mean_absolute_error: 0.0031\n",
      "Epoch 45/100\n",
      "4000/4000 [==============================] - 21s 5ms/step - loss: 2.5862e-05 - mean_absolute_error: 0.0026 - val_loss: 6.0128e-05 - val_mean_absolute_error: 0.0031\n"
     ]
    },
    {
     "name": "stdout",
     "output_type": "stream",
     "text": [
      "Epoch 46/100\n",
      "4000/4000 [==============================] - 20s 5ms/step - loss: 2.5811e-05 - mean_absolute_error: 0.0026 - val_loss: 6.0314e-05 - val_mean_absolute_error: 0.0031\n",
      "Epoch 47/100\n",
      "4000/4000 [==============================] - 22s 6ms/step - loss: 2.5637e-05 - mean_absolute_error: 0.0025 - val_loss: 5.9873e-05 - val_mean_absolute_error: 0.0031\n",
      "Epoch 48/100\n",
      "4000/4000 [==============================] - 22s 5ms/step - loss: 2.5569e-05 - mean_absolute_error: 0.0026 - val_loss: 5.9807e-05 - val_mean_absolute_error: 0.0031\n",
      "Epoch 49/100\n",
      "4000/4000 [==============================] - 24s 6ms/step - loss: 2.5385e-05 - mean_absolute_error: 0.0025 - val_loss: 5.9549e-05 - val_mean_absolute_error: 0.0031\n",
      "Epoch 50/100\n",
      "4000/4000 [==============================] - 23s 6ms/step - loss: 2.5225e-05 - mean_absolute_error: 0.0025 - val_loss: 5.9510e-05 - val_mean_absolute_error: 0.0031\n",
      "Epoch 51/100\n",
      "4000/4000 [==============================] - 21s 5ms/step - loss: 2.5112e-05 - mean_absolute_error: 0.0025 - val_loss: 5.9108e-05 - val_mean_absolute_error: 0.0031\n",
      "Epoch 52/100\n",
      "4000/4000 [==============================] - 20s 5ms/step - loss: 2.5400e-05 - mean_absolute_error: 0.0026 - val_loss: 5.9236e-05 - val_mean_absolute_error: 0.0031\n",
      "\n",
      "Epoch 00052: ReduceLROnPlateau reducing learning rate to 6.25000029686e-05.\n",
      "Epoch 53/100\n",
      "4000/4000 [==============================] - 20s 5ms/step - loss: 2.4807e-05 - mean_absolute_error: 0.0025 - val_loss: 5.8962e-05 - val_mean_absolute_error: 0.0031\n",
      "Epoch 54/100\n",
      "4000/4000 [==============================] - 20s 5ms/step - loss: 2.4772e-05 - mean_absolute_error: 0.0025 - val_loss: 5.9056e-05 - val_mean_absolute_error: 0.0031\n",
      "Epoch 55/100\n",
      "4000/4000 [==============================] - 21s 5ms/step - loss: 2.4728e-05 - mean_absolute_error: 0.0025 - val_loss: 5.8973e-05 - val_mean_absolute_error: 0.0031\n",
      "Epoch 56/100\n",
      "4000/4000 [==============================] - 22s 5ms/step - loss: 2.4663e-05 - mean_absolute_error: 0.0025 - val_loss: 5.8904e-05 - val_mean_absolute_error: 0.0031\n",
      "Epoch 57/100\n",
      "4000/4000 [==============================] - 21s 5ms/step - loss: 2.4579e-05 - mean_absolute_error: 0.0025 - val_loss: 5.8697e-05 - val_mean_absolute_error: 0.0031\n",
      "Epoch 58/100\n",
      "4000/4000 [==============================] - 20s 5ms/step - loss: 2.4518e-05 - mean_absolute_error: 0.0025 - val_loss: 5.8633e-05 - val_mean_absolute_error: 0.0031\n",
      "Epoch 59/100\n",
      "4000/4000 [==============================] - 20s 5ms/step - loss: 2.4520e-05 - mean_absolute_error: 0.0025 - val_loss: 5.8680e-05 - val_mean_absolute_error: 0.0031\n",
      "Epoch 60/100\n",
      "4000/4000 [==============================] - 20s 5ms/step - loss: 2.4410e-05 - mean_absolute_error: 0.0025 - val_loss: 5.8650e-05 - val_mean_absolute_error: 0.0031\n",
      "Epoch 61/100\n",
      "4000/4000 [==============================] - 20s 5ms/step - loss: 2.4378e-05 - mean_absolute_error: 0.0025 - val_loss: 5.8451e-05 - val_mean_absolute_error: 0.0031\n",
      "Epoch 62/100\n",
      "4000/4000 [==============================] - 20s 5ms/step - loss: 2.4265e-05 - mean_absolute_error: 0.0025 - val_loss: 5.8152e-05 - val_mean_absolute_error: 0.0031\n",
      "\n",
      "Epoch 00062: ReduceLROnPlateau reducing learning rate to 3.12500014843e-05.\n",
      "Epoch 63/100\n",
      "4000/4000 [==============================] - 20s 5ms/step - loss: 2.4214e-05 - mean_absolute_error: 0.0025 - val_loss: 5.8239e-05 - val_mean_absolute_error: 0.0031\n",
      "Epoch 64/100\n",
      "4000/4000 [==============================] - 20s 5ms/step - loss: 2.4181e-05 - mean_absolute_error: 0.0025 - val_loss: 5.8184e-05 - val_mean_absolute_error: 0.0031\n",
      "Epoch 65/100\n",
      "4000/4000 [==============================] - 20s 5ms/step - loss: 2.4156e-05 - mean_absolute_error: 0.0025 - val_loss: 5.8155e-05 - val_mean_absolute_error: 0.0031\n",
      "Epoch 66/100\n",
      "4000/4000 [==============================] - 24s 6ms/step - loss: 2.4150e-05 - mean_absolute_error: 0.0025 - val_loss: 5.8135e-05 - val_mean_absolute_error: 0.0030\n",
      "Epoch 67/100\n",
      "4000/4000 [==============================] - 24s 6ms/step - loss: 2.4122e-05 - mean_absolute_error: 0.0025 - val_loss: 5.8106e-05 - val_mean_absolute_error: 0.0031\n",
      "Epoch 68/100\n",
      "4000/4000 [==============================] - 29s 7ms/step - loss: 2.4053e-05 - mean_absolute_error: 0.0025 - val_loss: 5.7958e-05 - val_mean_absolute_error: 0.0031\n",
      "Epoch 69/100\n",
      "4000/4000 [==============================] - 23s 6ms/step - loss: 2.4033e-05 - mean_absolute_error: 0.0025 - val_loss: 5.7935e-05 - val_mean_absolute_error: 0.0031\n",
      "Epoch 70/100\n",
      "4000/4000 [==============================] - 23s 6ms/step - loss: 2.3993e-05 - mean_absolute_error: 0.0025 - val_loss: 5.7945e-05 - val_mean_absolute_error: 0.0031\n",
      "Epoch 71/100\n",
      "4000/4000 [==============================] - 26s 7ms/step - loss: 2.3997e-05 - mean_absolute_error: 0.0025 - val_loss: 5.7753e-05 - val_mean_absolute_error: 0.0030\n",
      "Epoch 72/100\n",
      "4000/4000 [==============================] - 23s 6ms/step - loss: 2.3977e-05 - mean_absolute_error: 0.0025 - val_loss: 5.8103e-05 - val_mean_absolute_error: 0.0031\n",
      "\n",
      "Epoch 00072: ReduceLROnPlateau reducing learning rate to 1.56250007421e-05.\n",
      "Epoch 73/100\n",
      "4000/4000 [==============================] - 24s 6ms/step - loss: 2.3941e-05 - mean_absolute_error: 0.0025 - val_loss: 5.8028e-05 - val_mean_absolute_error: 0.0031\n",
      "Epoch 74/100\n",
      "4000/4000 [==============================] - 21s 5ms/step - loss: 2.3920e-05 - mean_absolute_error: 0.0025 - val_loss: 5.7897e-05 - val_mean_absolute_error: 0.0030\n",
      "Epoch 75/100\n",
      "4000/4000 [==============================] - 21s 5ms/step - loss: 2.3871e-05 - mean_absolute_error: 0.0025 - val_loss: 5.7866e-05 - val_mean_absolute_error: 0.0030\n",
      "Epoch 76/100\n",
      "4000/4000 [==============================] - 21s 5ms/step - loss: 2.3859e-05 - mean_absolute_error: 0.0025 - val_loss: 5.7778e-05 - val_mean_absolute_error: 0.0030\n",
      "Epoch 77/100\n",
      "4000/4000 [==============================] - 21s 5ms/step - loss: 2.3838e-05 - mean_absolute_error: 0.0025 - val_loss: 5.7818e-05 - val_mean_absolute_error: 0.0030\n",
      "Epoch 78/100\n",
      "4000/4000 [==============================] - 20s 5ms/step - loss: 2.3841e-05 - mean_absolute_error: 0.0025 - val_loss: 5.7734e-05 - val_mean_absolute_error: 0.0031\n",
      "Epoch 79/100\n",
      "4000/4000 [==============================] - 20s 5ms/step - loss: 2.3798e-05 - mean_absolute_error: 0.0025 - val_loss: 5.7654e-05 - val_mean_absolute_error: 0.0030\n",
      "Epoch 80/100\n",
      "4000/4000 [==============================] - 20s 5ms/step - loss: 2.3769e-05 - mean_absolute_error: 0.0025 - val_loss: 5.7740e-05 - val_mean_absolute_error: 0.0031\n",
      "Epoch 81/100\n",
      "4000/4000 [==============================] - 20s 5ms/step - loss: 2.3771e-05 - mean_absolute_error: 0.0025 - val_loss: 5.7782e-05 - val_mean_absolute_error: 0.0031\n",
      "Epoch 82/100\n",
      "4000/4000 [==============================] - 20s 5ms/step - loss: 2.3738e-05 - mean_absolute_error: 0.0025 - val_loss: 5.7575e-05 - val_mean_absolute_error: 0.0030\n",
      "\n",
      "Epoch 00082: ReduceLROnPlateau reducing learning rate to 7.81250037107e-06.\n",
      "Epoch 83/100\n",
      "4000/4000 [==============================] - 20s 5ms/step - loss: 2.3726e-05 - mean_absolute_error: 0.0025 - val_loss: 5.7563e-05 - val_mean_absolute_error: 0.0030\n",
      "Epoch 84/100\n",
      "4000/4000 [==============================] - 20s 5ms/step - loss: 2.3714e-05 - mean_absolute_error: 0.0024 - val_loss: 5.7557e-05 - val_mean_absolute_error: 0.0030\n",
      "Epoch 85/100\n",
      "4000/4000 [==============================] - 20s 5ms/step - loss: 2.3709e-05 - mean_absolute_error: 0.0025 - val_loss: 5.7573e-05 - val_mean_absolute_error: 0.0030\n",
      "Epoch 86/100\n",
      "4000/4000 [==============================] - 20s 5ms/step - loss: 2.3694e-05 - mean_absolute_error: 0.0024 - val_loss: 5.7569e-05 - val_mean_absolute_error: 0.0030\n",
      "Epoch 87/100\n",
      "4000/4000 [==============================] - 20s 5ms/step - loss: 2.3686e-05 - mean_absolute_error: 0.0025 - val_loss: 5.7611e-05 - val_mean_absolute_error: 0.0030\n",
      "Epoch 88/100\n",
      "4000/4000 [==============================] - 20s 5ms/step - loss: 2.3681e-05 - mean_absolute_error: 0.0024 - val_loss: 5.7607e-05 - val_mean_absolute_error: 0.0031\n",
      "Epoch 89/100\n",
      "4000/4000 [==============================] - 21s 5ms/step - loss: 2.3675e-05 - mean_absolute_error: 0.0024 - val_loss: 5.7542e-05 - val_mean_absolute_error: 0.0031\n",
      "Epoch 90/100\n"
     ]
    },
    {
     "name": "stdout",
     "output_type": "stream",
     "text": [
      "4000/4000 [==============================] - 20s 5ms/step - loss: 2.3661e-05 - mean_absolute_error: 0.0024 - val_loss: 5.7515e-05 - val_mean_absolute_error: 0.0030\n",
      "Epoch 91/100\n",
      "4000/4000 [==============================] - 20s 5ms/step - loss: 2.3655e-05 - mean_absolute_error: 0.0024 - val_loss: 5.7482e-05 - val_mean_absolute_error: 0.0030\n",
      "Epoch 92/100\n",
      "4000/4000 [==============================] - 20s 5ms/step - loss: 2.3644e-05 - mean_absolute_error: 0.0024 - val_loss: 5.7438e-05 - val_mean_absolute_error: 0.0030\n",
      "\n",
      "Epoch 00092: ReduceLROnPlateau reducing learning rate to 3.90625018554e-06.\n",
      "Epoch 93/100\n",
      "4000/4000 [==============================] - 20s 5ms/step - loss: 2.3637e-05 - mean_absolute_error: 0.0025 - val_loss: 5.7545e-05 - val_mean_absolute_error: 0.0030\n",
      "Epoch 94/100\n",
      "4000/4000 [==============================] - 20s 5ms/step - loss: 2.3627e-05 - mean_absolute_error: 0.0024 - val_loss: 5.7458e-05 - val_mean_absolute_error: 0.0030\n",
      "Epoch 95/100\n",
      "4000/4000 [==============================] - 20s 5ms/step - loss: 2.3625e-05 - mean_absolute_error: 0.0024 - val_loss: 5.7479e-05 - val_mean_absolute_error: 0.0030\n",
      "Epoch 96/100\n",
      "4000/4000 [==============================] - 20s 5ms/step - loss: 2.3619e-05 - mean_absolute_error: 0.0024 - val_loss: 5.7483e-05 - val_mean_absolute_error: 0.0030\n",
      "Epoch 97/100\n",
      "4000/4000 [==============================] - 20s 5ms/step - loss: 2.3612e-05 - mean_absolute_error: 0.0024 - val_loss: 5.7476e-05 - val_mean_absolute_error: 0.0030\n",
      "Epoch 98/100\n",
      "4000/4000 [==============================] - 20s 5ms/step - loss: 2.3603e-05 - mean_absolute_error: 0.0024 - val_loss: 5.7479e-05 - val_mean_absolute_error: 0.0030\n",
      "Epoch 99/100\n",
      "4000/4000 [==============================] - 20s 5ms/step - loss: 2.3607e-05 - mean_absolute_error: 0.0024 - val_loss: 5.7431e-05 - val_mean_absolute_error: 0.0030\n",
      "Epoch 100/100\n",
      "4000/4000 [==============================] - 21s 5ms/step - loss: 2.3598e-05 - mean_absolute_error: 0.0024 - val_loss: 5.7446e-05 - val_mean_absolute_error: 0.0030\n"
     ]
    },
    {
     "data": {
      "text/plain": [
       "<keras.callbacks.History at 0x13542e650>"
      ]
     },
     "execution_count": 26,
     "metadata": {},
     "output_type": "execute_result"
    }
   ],
   "source": [
    "early_stop  = EarlyStopping(monitor='val_loss', patience=20, verbose=1)\n",
    "reduce_lr   = ReduceLROnPlateau(monitor='val_loss', factor=0.5, patience=10, min_lr=0.000001, verbose=1)\n",
    "tensorboard = TensorBoard(log_dir='/Users/abhi/Desktop/crypter/logs')\n",
    "\n",
    "sequence_autoencoder.fit(X[:4000], X[:4000],\n",
    "                        epochs=100,\n",
    "                        batch_size=256,\n",
    "                        shuffle=True,\n",
    "                        callbacks=[early_stop, reduce_lr, tensorboard],\n",
    "                        validation_data=(X[4000:], X[4000:]))"
   ]
  },
  {
   "cell_type": "code",
   "execution_count": null,
   "metadata": {
    "ExecuteTime": {
     "end_time": "2019-01-31T19:12:21.669546Z",
     "start_time": "2019-01-31T19:12:21.645848Z"
    }
   },
   "outputs": [],
   "source": [
    "X[4000:].std(axis=1).mean(axis=0)"
   ]
  },
  {
   "cell_type": "code",
   "execution_count": 17,
   "metadata": {
    "ExecuteTime": {
     "end_time": "2019-02-03T14:06:50.333456Z",
     "start_time": "2019-02-03T14:06:47.587635Z"
    },
    "collapsed": true
   },
   "outputs": [],
   "source": [
    "y_true = X[4000:]\n",
    "y_pred = sequence_autoencoder.predict(X[4000:])"
   ]
  },
  {
   "cell_type": "code",
   "execution_count": 18,
   "metadata": {
    "ExecuteTime": {
     "end_time": "2019-02-03T14:06:52.755195Z",
     "start_time": "2019-02-03T14:06:52.679618Z"
    }
   },
   "outputs": [
    {
     "data": {
      "text/plain": [
       "array([[0.00143693, 0.00159314, 0.0013779 , 0.00127187, 0.00468014],\n",
       "       [0.00128457, 0.00148816, 0.00162846, 0.00149902, 0.00440173],\n",
       "       [0.00142833, 0.0014421 , 0.00141383, 0.0013673 , 0.00568453],\n",
       "       [0.00210694, 0.00216468, 0.00236947, 0.00232669, 0.00652406],\n",
       "       [0.00231557, 0.00179632, 0.00197361, 0.00203877, 0.00636409]])"
      ]
     },
     "execution_count": 18,
     "metadata": {},
     "output_type": "execute_result"
    },
    {
     "data": {
      "text/plain": [
       "array([0.0022856 , 0.00219143, 0.00238483, 0.00240553, 0.0065297 ])"
      ]
     },
     "execution_count": 18,
     "metadata": {},
     "output_type": "execute_result"
    },
    {
     "data": {
      "text/plain": [
       "0.0031594172555708443"
      ]
     },
     "execution_count": 18,
     "metadata": {},
     "output_type": "execute_result"
    },
    {
     "data": {
      "text/plain": [
       "array([[0.00468096, 0.00417929, 0.00479477, 0.00471278, 0.0015732 ],\n",
       "       [0.00480767, 0.0042691 , 0.00478902, 0.00474618, 0.00278236],\n",
       "       [0.00482573, 0.00433056, 0.00487672, 0.00483059, 0.01132021],\n",
       "       [0.00484436, 0.00434562, 0.00483098, 0.00481142, 0.01538759],\n",
       "       [0.00456308, 0.00414669, 0.00475901, 0.00460063, 0.00852969]])"
      ]
     },
     "execution_count": 18,
     "metadata": {},
     "output_type": "execute_result"
    },
    {
     "data": {
      "text/plain": [
       "array([0.00463314, 0.00412722, 0.00464213, 0.00455984, 0.00776814])"
      ]
     },
     "execution_count": 18,
     "metadata": {},
     "output_type": "execute_result"
    }
   ],
   "source": [
    "np.abs(y_true - y_pred).mean(axis=1)[:5]\n",
    "np.abs(y_true - y_pred).mean(axis=1).mean(axis=0)\n",
    "np.abs(y_true - y_pred).mean()\n",
    "np.abs(y_true - y_pred).std(axis=1)[:5]\n",
    "np.abs(y_true - y_pred).std(axis=1).mean(axis=0)"
   ]
  },
  {
   "cell_type": "code",
   "execution_count": 20,
   "metadata": {
    "ExecuteTime": {
     "end_time": "2019-02-03T14:18:32.073963Z",
     "start_time": "2019-02-03T14:18:28.077786Z"
    }
   },
   "outputs": [],
   "source": [
    "X_encoded = encoder.predict(X)"
   ]
  },
  {
   "cell_type": "code",
   "execution_count": null,
   "metadata": {
    "collapsed": true
   },
   "outputs": [],
   "source": []
  }
 ],
 "metadata": {
  "_draft": {
   "nbviewer_url": "https://gist.github.com/9e0e96b406b4b4d69c9a4ae27d55ee3c"
  },
  "gist": {
   "data": {
    "description": "AE",
    "public": false
   },
   "id": "9e0e96b406b4b4d69c9a4ae27d55ee3c"
  },
  "kernelspec": {
   "display_name": "Python 2",
   "language": "python",
   "name": "python2"
  },
  "language_info": {
   "codemirror_mode": {
    "name": "ipython",
    "version": 2
   },
   "file_extension": ".py",
   "mimetype": "text/x-python",
   "name": "python",
   "nbconvert_exporter": "python",
   "pygments_lexer": "ipython2",
   "version": "2.7.13"
  },
  "varInspector": {
   "cols": {
    "lenName": 16,
    "lenType": 16,
    "lenVar": 40
   },
   "kernels_config": {
    "python": {
     "delete_cmd_postfix": "",
     "delete_cmd_prefix": "del ",
     "library": "var_list.py",
     "varRefreshCmd": "print(var_dic_list())"
    },
    "r": {
     "delete_cmd_postfix": ") ",
     "delete_cmd_prefix": "rm(",
     "library": "var_list.r",
     "varRefreshCmd": "cat(var_dic_list()) "
    }
   },
   "types_to_exclude": [
    "module",
    "function",
    "builtin_function_or_method",
    "instance",
    "_Feature"
   ],
   "window_display": false
  }
 },
 "nbformat": 4,
 "nbformat_minor": 2
}
